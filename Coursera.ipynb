{
 "cells": [
  {
   "cell_type": "markdown",
   "id": "2b9ad621",
   "metadata": {},
   "source": [
    "#Peer-graded Assignment"
   ]
  },
  {
   "cell_type": "markdown",
   "id": "44ae1daa",
   "metadata": {},
   "source": [
    "Introduction\n",
    "This is a Peer-graded Assignment for the tools for data science course on coursera"
   ]
  },
  {
   "cell_type": "markdown",
   "id": "ee13a406",
   "metadata": {},
   "source": [
    "Data science languages\n",
    "1. R\n",
    "2. Python\n",
    "3. SQL\n",
    "4. Java\n",
    "5. Scala"
   ]
  },
  {
   "cell_type": "markdown",
   "id": "0a865627",
   "metadata": {},
   "source": [
    "Data science libraries\n",
    "\n",
    "1. NumPy\n",
    "2. SciPy\n",
    "3. Pandas\n",
    "4. Matplotlib\n",
    "5. Seaborn\n",
    "6. TensorFlow\n",
    "7. PyTorch\n",
    "8. Keras\n",
    "9. Scikit-learn"
   ]
  },
  {
   "cell_type": "markdown",
   "id": "e6241ea0",
   "metadata": {},
   "source": [
    "Data science tools\n",
    "\n",
    "1. Power BI\n",
    "2. Jupyter Notebooks\n",
    "3. Github"
   ]
  },
  {
   "cell_type": "markdown",
   "id": "8cdaeb01",
   "metadata": {},
   "source": [
    "Arithmetic Expression Examples\n",
    "\n",
    "5 + 2 = 7\n",
    "\n",
    "7 - 3 = 4\n",
    "\n",
    "2 * 3 = 6\n",
    "\n",
    "6 / 2 = 3\n",
    "\n",
    "2 ** 3 = 8"
   ]
  },
  {
   "cell_type": "code",
   "execution_count": 3,
   "id": "a344d7f6",
   "metadata": {},
   "outputs": [
    {
     "data": {
      "text/plain": [
       "6"
      ]
     },
     "execution_count": 3,
     "metadata": {},
     "output_type": "execute_result"
    }
   ],
   "source": [
    "5 + 2\n",
    "\n",
    "2 * 3"
   ]
  },
  {
   "cell_type": "code",
   "execution_count": 8,
   "id": "da6817e0",
   "metadata": {},
   "outputs": [
    {
     "data": {
      "text/plain": [
       "180"
      ]
     },
     "execution_count": 8,
     "metadata": {},
     "output_type": "execute_result"
    }
   ],
   "source": [
    "Hours = 3\n",
    "Minutes = Hours * 60\n",
    "Minutes"
   ]
  },
  {
   "cell_type": "markdown",
   "id": "3327a718",
   "metadata": {},
   "source": [
    "Objectives\n",
    "\n",
    "Create a Jupyter Notebook with markdown and code cells\n",
    "\n",
    "List examples of languages, libraries and tools used in Data Science\n",
    "\n",
    "Share your Jupyter Notebook publicly on GitHub\n",
    "\n",
    "Evaluate notebooks submitted by your peers using the provided rubric\n",
    "\n",
    "Demonstrate proficiency in Data Science toolkit knowledge"
   ]
  },
  {
   "cell_type": "markdown",
   "id": "84ae39a9",
   "metadata": {},
   "source": [
    "Author's name: Ahmed Amin"
   ]
  },
  {
   "cell_type": "code",
   "execution_count": null,
   "id": "6c6be10d",
   "metadata": {},
   "outputs": [],
   "source": []
  }
 ],
 "metadata": {
  "kernelspec": {
   "display_name": "Python 3 (ipykernel)",
   "language": "python",
   "name": "python3"
  },
  "language_info": {
   "codemirror_mode": {
    "name": "ipython",
    "version": 3
   },
   "file_extension": ".py",
   "mimetype": "text/x-python",
   "name": "python",
   "nbconvert_exporter": "python",
   "pygments_lexer": "ipython3",
   "version": "3.10.9"
  }
 },
 "nbformat": 4,
 "nbformat_minor": 5
}
